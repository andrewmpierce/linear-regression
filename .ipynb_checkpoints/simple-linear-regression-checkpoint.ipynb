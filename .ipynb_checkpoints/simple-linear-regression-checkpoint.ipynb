{
 "cells": [
  {
   "cell_type": "code",
   "execution_count": 260,
   "metadata": {
    "collapsed": false
   },
   "outputs": [],
   "source": [
    "import pandas as pd\n",
    "import matplotlib.pyplot as plt\n",
    "import numpy as np\n",
    "from sklearn import linear_model, datasets\n",
    "import itertools\n",
    "%matplotlib inline"
   ]
  },
  {
   "cell_type": "markdown",
   "metadata": {},
   "source": [
    "## Ground Cricket Chirps\n",
    "\n",
    "In _The Song of Insects_ (1948) by George W. Pierce, Pierce mechanically measured the frequency (the number of wing vibrations per second) of chirps (or pulses of sound) made by a striped ground cricket, at various ground temperatures.  Since crickets are ectotherms (cold-blooded), the rate of their physiological processes and their overall metabolism are influenced by temperature.  Consequently, there is reason to believe that temperature would have a profound effect on aspects of their behavior, such as chirp frequency.\n",
    "\n",
    "In general, it was found that crickets did not sing at temperatures colder than 60&deg; F or warmer than 100&deg; F."
   ]
  },
  {
   "cell_type": "code",
   "execution_count": 261,
   "metadata": {
    "collapsed": false
   },
   "outputs": [
    {
     "name": "stdout",
     "output_type": "stream",
     "text": [
      "(15, 1)\n",
      "(15, 1)\n"
     ]
    }
   ],
   "source": [
    "ground_cricket_data = {\"Chirps/Second\": [20.0, 16.0, 19.8, 18.4, 17.1, 15.5, 14.7,\n",
    "                                         15.7, 15.4, 16.3, 15.0, 17.2, 16.0, 17.0,\n",
    "                                         14.4],\n",
    "                       \"Ground Temperature\": [88.6, 71.6, 93.3, 84.3, 80.6, 75.2, 69.7,\n",
    "                                              71.6, 69.4, 83.3, 79.6, 82.6, 80.6, 83.5,\n",
    "                                              76.3]}\n",
    "gcd = pd.DataFrame(ground_cricket_data)\n",
    "y = np.array(gcd[['Chirps/Second']])\n",
    "X = np.array(gcd[['Ground Temperature']])\n",
    "X.reshape(1,15)\n",
    "y.reshape(1,15)\n",
    "print(X.shape)\n",
    "print(y.shape)"
   ]
  },
  {
   "cell_type": "markdown",
   "metadata": {},
   "source": [
    "### Tasks\n",
    "\n",
    "1. Find the linear regression equation for this data.\n",
    "2. Chart the original data and the equation on the chart.\n",
    "3. Find the equation's $R^2$ score (use the `.score` method) to determine whether the equation is a good fit for this data. (0.8 and greater is considered a strong correlation.)\n",
    "4. Extrapolate data:  If the ground temperature reached 95&deg; F, then at what approximate rate would you expect the crickets to be chirping?\n",
    "5. Interpolate data:  With a listening device, you discovered that on a particular morning the crickets were chirping at a rate of 18 chirps per second.  What was the approximate ground temperature that morning?"
   ]
  },
  {
   "cell_type": "code",
   "execution_count": null,
   "metadata": {
    "collapsed": false
   },
   "outputs": [],
   "source": []
  },
  {
   "cell_type": "code",
   "execution_count": 273,
   "metadata": {
    "collapsed": false
   },
   "outputs": [
    {
     "data": {
      "image/png": "[encoded data removed]",
      "text/plain": [
       "<matplotlib.figure.Figure at 0x1167ed5c0>"
      ]
     },
     "metadata": {},
     "output_type": "display_data"
    }
   ],
   "source": [
    "regr = linear_model.LinearRegression()\n",
    "regr.fit(X, y)\n",
    "prediction = regr.predict(X)\n",
    "plt.scatter(X, y)\n",
    "plt.title(\"Cricket Chirps and Temperature\")\n",
    "plt.xlabel(\"Temperature (F)\")\n",
    "plt.ylabel(\"Number of Chirps/Second\")\n",
    "plt.plot(X, prediction, c='red', linewidth=2)\n",
    "\n",
    "plt.show()\n"
   ]
  },
  {
   "cell_type": "code",
   "execution_count": 279,
   "metadata": {
    "collapsed": false
   },
   "outputs": [
    {
     "name": "stdout",
     "output_type": "stream",
     "text": [
      "The R^2 fit is 0.6922946529146998. This implies that it is actually not a great fit.\n"
     ]
    }
   ],
   "source": [
    "print(\"The R^2 fit is {}. This implies that it is actually not a great fit.\".format(regr.score(X, y)))"
   ]
  },
  {
   "cell_type": "code",
   "execution_count": 288,
   "metadata": {
    "collapsed": false
   },
   "outputs": [
    {
     "name": "stdout",
     "output_type": "stream",
     "text": [
      "The equation for the line is y =  [[ 0.20299973]]x + [ 0.45931465]\n"
     ]
    }
   ],
   "source": [
    "print(\"The equation for the line is y =  {}x + {}\".format(regr.coef_, regr.intercept_))"
   ]
  },
  {
   "cell_type": "code",
   "execution_count": 280,
   "metadata": {
    "collapsed": false
   },
   "outputs": [
    {
     "name": "stdout",
     "output_type": "stream",
     "text": [
      "If the temperature is 95 degrees, we expect to hear [[ 19.74428913]] chirps a second\n"
     ]
    }
   ],
   "source": [
    "print(\"If the temperature is 95 degrees, we expect to hear {} chirps a second\".format(regr.predict(95)))"
   ]
  },
  {
   "cell_type": "code",
   "execution_count": 284,
   "metadata": {
    "collapsed": false
   },
   "outputs": [
    {
     "name": "stdout",
     "output_type": "stream",
     "text": [
      "If we hear 18 chirps a second, we can guess that it is [[ 86.40743135]] degrees out.\n"
     ]
    }
   ],
   "source": [
    "print(\"If we hear 18 chirps a second, we can guess that it is {} degrees out.\".format((18 - regr.intercept_ )/ regr.coef_))\n"
   ]
  },
  {
   "cell_type": "markdown",
   "metadata": {},
   "source": [
    "## Brain vs. Body Weight\n",
    "\n",
    "In the file `brain_body.txt`, the average brain and body weight for a number of mammal species are recorded. Load this data into a Pandas data frame.\n",
    "\n",
    "### Tasks\n",
    "\n",
    "1. Find the linear regression equation for this data for brain weight to body weight.\n",
    "2. Chart the original data and the equation on the chart.\n",
    "3. Find the equation's $R^2$ score (use the `.score` method) to determine whether the equation is a good fit for this data. (0.8 and greater is considered a strong correlation.)"
   ]
  },
  {
   "cell_type": "code",
   "execution_count": 266,
   "metadata": {
    "collapsed": false
   },
   "outputs": [],
   "source": [
    "brain_body = pd.read_fwf(\"brain_body.txt\")"
   ]
  },
  {
   "cell_type": "code",
   "execution_count": 267,
   "metadata": {
    "collapsed": false
   },
   "outputs": [
    {
     "data": {
      "image/png": "[encoded data removed]",
      "text/plain": [
       "<matplotlib.figure.Figure at 0x116aa94e0>"
      ]
     },
     "metadata": {},
     "output_type": "display_data"
    }
   ],
   "source": [
    "x_bod = np.array(brain_body[['Brain']])\n",
    "y_bod = np.array(brain_body[['Body']])\n",
    "\n",
    "brain = linear_model.LinearRegression()\n",
    "brain.fit(x_bod, y_bod)\n",
    "preds = brain.predict(x_bod)\n",
    "brain.coef_\n",
    "brain.intercept_\n",
    "plt.scatter(x_bod, y_bod)\n",
    "plt.title(\"Brain vs Body Weight\")\n",
    "plt.ylabel(\"Body Weight\")\n",
    "plt.xlabel(\"Brain Weight\")\n",
    "plt.plot(x_bod, preds, c='red', linewidth=2)\n",
    "plt.show()\n"
   ]
  },
  {
   "cell_type": "code",
   "execution_count": 287,
   "metadata": {
    "collapsed": false
   },
   "outputs": [
    {
     "name": "stdout",
     "output_type": "stream",
     "text": [
      "The equation of the line is y = [[ 0.96649637]]x + [ 91.00439621]\n"
     ]
    }
   ],
   "source": [
    "print(\"The equation of the line is y = {}x + {}\".format(brain.coef_, brain.intercept_))"
   ]
  },
  {
   "cell_type": "code",
   "execution_count": 268,
   "metadata": {
    "collapsed": false
   },
   "outputs": [
    {
     "data": {
      "text/plain": [
       "0.87266208430433312"
      ]
     },
     "execution_count": 268,
     "metadata": {},
     "output_type": "execute_result"
    }
   ],
   "source": [
    "brain.score(x_bod, y_bod)"
   ]
  },
  {
   "cell_type": "markdown",
   "metadata": {},
   "source": [
    "With a R^2 of .87, we can conclude that this is a pretty good fit!"
   ]
  },
  {
   "cell_type": "markdown",
   "metadata": {},
   "source": [
    "## Salary Discrimination\n",
    "\n",
    "The file `salary.txt` contains data for 52 tenure-track professors at a small Midwestern college. This data was used in legal proceedings in the 1980s about discrimination against women in salary.\n",
    "\n",
    "The data in the file, by column:\n",
    "\n",
    "1. Sex. 1 for female, 0 for male.\n",
    "2. Rank. 1 for assistant professor, 2 for associate professor, 3 for full professor.\n",
    "3. Year. Number of years in current rank.\n",
    "4. Degree. Highest degree. 1 for doctorate, 0 for master's.\n",
    "5. YSdeg. Years since highest degree was earned.\n",
    "6. Salary. Salary/year in dollars.\n",
    "\n",
    "### Tasks\n",
    "\n",
    "1. Find the linear regression equation for this data using columns 1-5 to column 6.\n",
    "2. Find the selection of columns with the best $R^2$ score.\n",
    "3. Report whether sex is a factor in salary. Support your argument with graph(s) if appropriate."
   ]
  },
  {
   "cell_type": "code",
   "execution_count": 303,
   "metadata": {
    "collapsed": false
   },
   "outputs": [],
   "source": [
    "salary = pd.read_fwf(\"salary.txt\", header=None, \n",
    "                 names=[\"Sex\", \"Rank\", \"Year\", \"Degree\", \"YSdeg\", \"Salary\"])\n",
    "possible_columns = ['Sex', 'Rank', 'Year', 'YSdeg', 'Degree']\n",
    "combos2 = (list(itertools.combinations(possible_columns, 2)))\n",
    "combos3 = (list(itertools.combinations(possible_columns, 3)))\n",
    "combos4 = (list(itertools.combinations(possible_columns, 4)))\n",
    "combos5 = (list(itertools.combinations(possible_columns, 5)))\n",
    "combos2 = [list(x) for x in combos2]\n",
    "combos3 = [list(x) for x in combos3]\n",
    "combos4 = [list(x) for x in combos4]\n",
    "combos5 = [list(x) for x in combos5]\n",
    "\n",
    "merged = combos2+combos3+combos4+combos5\n",
    "output_data = np.array(salary[['Salary']])\n",
    "regr2 = linear_model.LinearRegression()\n",
    "best = salary[['Rank']]\n",
    "regr2.fit(best, output_data)\n",
    "predict = regr2.predict(best)\n",
    "\n"
   ]
  },
  {
   "cell_type": "code",
   "execution_count": 270,
   "metadata": {
    "collapsed": false
   },
   "outputs": [
    {
     "name": "stdout",
     "output_type": "stream",
     "text": [
      "(['Sex', 'Rank', 'Year', 'YSdeg', 'Degree'], 0.85471806744109702)\n"
     ]
    }
   ],
   "source": [
    "def find_highest(combos, output):\n",
    "    combo = []\n",
    "    for x in combos:\n",
    "        regr2.fit(np.array(salary[x]), output)\n",
    "        combo.append((x, regr2.score(np.array(salary[x]), output)))\n",
    "    winner = sorted(combo, key=lambda c:c[1], reverse = True)[0]\n",
    "    print(winner)\n",
    "find_highest(merged, output_data)"
   ]
  },
  {
   "cell_type": "code",
   "execution_count": 271,
   "metadata": {
    "collapsed": false
   },
   "outputs": [
    {
     "name": "stdout",
     "output_type": "stream",
     "text": [
      "[(['Sex', 'Rank', 'Year', 'YSdeg', 'Degree'], 0.85471806744109702), (['Sex', 'Rank', 'Year', 'YSdeg'], 0.84903661922628515), (['Rank', 'Year', 'YSdeg', 'Degree'], 0.8485077204335425), (['Rank', 'Year', 'YSdeg'], 0.84567257644855964), (['Sex', 'Rank', 'Year', 'Degree'], 0.84554764129793603), (['Sex', 'Rank', 'Year'], 0.84543198619871662), (['Rank', 'Year', 'Degree'], 0.84373952008741382), (['Rank', 'Year'], 0.84364809332645985), (['Sex', 'Rank', 'YSdeg', 'Degree'], 0.76718134143506678), (['Sex', 'Rank', 'YSdeg'], 0.76661226102270708), (['Rank', 'YSdeg', 'Degree'], 0.76251491853264552), (['Rank', 'YSdeg'], 0.76239481896982497), (['Sex', 'Rank', 'Degree'], 0.75831447681536124), (['Rank', 'Degree'], 0.7557961688386643), (['Sex', 'Rank'], 0.7554917749443395), (['Sex', 'Year', 'YSdeg', 'Degree'], 0.63115975029074356), (['Year', 'YSdeg', 'Degree'], 0.62362616115335046), (['Sex', 'YSdeg', 'Degree'], 0.58327082576603151), (['Sex', 'Year', 'YSdeg'], 0.5808063918180405), (['Year', 'YSdeg'], 0.5782019226431887), (['YSdeg', 'Degree'], 0.54096622882378731), (['Sex', 'YSdeg'], 0.49304792719667823), (['Sex', 'Year', 'Degree'], 0.49207944757472977), (['Year', 'Degree'], 0.49190141490164396), (['Sex', 'Year'], 0.49113609418863857), (['Sex', 'Degree'], 0.066437398420188809)]\n"
     ]
    }
   ],
   "source": [
    "def find_all(combos, output):\n",
    "    combo = []\n",
    "    for x in combos:\n",
    "        regr2.fit(np.array(salary[x]), output)\n",
    "        combo.append((x, regr2.score(np.array(salary[x]), output)))\n",
    "    winner = sorted(combo, key=lambda c:c[1], reverse = True)\n",
    "    print(winner)\n",
    "find_all(merged, output_data)"
   ]
  },
  {
   "cell_type": "code",
   "execution_count": null,
   "metadata": {
    "collapsed": true
   },
   "outputs": [],
   "source": []
  },
  {
   "cell_type": "markdown",
   "metadata": {},
   "source": [
    "# Conclusions\n",
    "Based off the R2 scores so far, sex does not seem to be a significant factor. The R score is less than one point higher when the sex parameter is included and this does not appear to be significant evidence. The best R score comes when all five parameters are included, with an R correlation of .854. When four categories, not including 'Sex' are used, the R score is .845."
   ]
  },
  {
   "cell_type": "markdown",
   "metadata": {},
   "source": []
  },
  {
   "cell_type": "markdown",
   "metadata": {},
   "source": []
  }
 ],
 "metadata": {
  "kernelspec": {
   "display_name": "Python 3",
   "language": "python",
   "name": "python3"
  },
  "language_info": {
   "codemirror_mode": {
    "name": "ipython",
    "version": 3
   },
   "file_extension": ".py",
   "mimetype": "text/x-python",
   "name": "python",
   "nbconvert_exporter": "python",
   "pygments_lexer": "ipython3",
   "version": "3.4.3"
  }
 },
 "nbformat": 4,
 "nbformat_minor": 0
}
